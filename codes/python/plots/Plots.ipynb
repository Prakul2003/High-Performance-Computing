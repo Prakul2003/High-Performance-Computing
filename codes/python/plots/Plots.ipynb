{
 "cells": [
  {
   "cell_type": "markdown",
   "id": "2f7b6a2c-25f5-47e2-8748-203079b6b9ab",
   "metadata": {},
   "source": [
    "### Plots in Python"
   ]
  },
  {
   "cell_type": "code",
   "execution_count": null,
   "id": "196dddc3-a08d-4861-98f5-98d25793728e",
   "metadata": {},
   "outputs": [],
   "source": [
    "from numpy import *\n"
   ]
  },
  {
   "cell_type": "code",
   "execution_count": null,
   "id": "335a1dc8-ce91-4510-804b-d85903e28c3b",
   "metadata": {},
   "outputs": [],
   "source": [
    "pi"
   ]
  },
  {
   "cell_type": "code",
   "execution_count": null,
   "id": "4e5c7b13-ff64-4c88-9991-3d2cdeeaef77",
   "metadata": {},
   "outputs": [],
   "source": [
    "import matplotlib.pyplot as pt\n"
   ]
  },
  {
   "cell_type": "code",
   "execution_count": null,
   "id": "3391407b-417d-4116-be45-8a2ea2a714f5",
   "metadata": {},
   "outputs": [],
   "source": [
    "x=linspace(0.0,5.0,1000)\n",
    "x"
   ]
  },
  {
   "cell_type": "code",
   "execution_count": null,
   "id": "7fd181af-17d8-4bc8-a72e-873781309e38",
   "metadata": {},
   "outputs": [],
   "source": [
    "y=cos(2*pi*x)*exp(-x)\n",
    "y"
   ]
  },
  {
   "cell_type": "code",
   "execution_count": null,
   "id": "1277bd3a-9021-4213-bf68-f21ca672d7eb",
   "metadata": {},
   "outputs": [],
   "source": [
    "pt.plot(x,y,linestyle=\"--\",color=\"red\")\n",
    "pt.xlabel(\"x ---->\")\n",
    "pt.ylabel(\"y ---->\")\n",
    "pt.grid(True)"
   ]
  },
  {
   "cell_type": "code",
   "execution_count": null,
   "id": "6362bfde-70c3-4a1f-b31f-c7b7510e5779",
   "metadata": {},
   "outputs": [],
   "source": []
  }
 ],
 "metadata": {
  "kernelspec": {
   "display_name": "Python 3 (ipykernel)",
   "language": "python",
   "name": "python3"
  },
  "language_info": {
   "codemirror_mode": {
    "name": "ipython",
    "version": 3
   },
   "file_extension": ".py",
   "mimetype": "text/x-python",
   "name": "python",
   "nbconvert_exporter": "python",
   "pygments_lexer": "ipython3",
   "version": "3.11.5"
  }
 },
 "nbformat": 4,
 "nbformat_minor": 5
}
